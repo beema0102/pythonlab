{
  "nbformat": 4,
  "nbformat_minor": 0,
  "metadata": {
    "colab": {
      "provenance": []
    },
    "kernelspec": {
      "name": "python3",
      "display_name": "Python 3"
    },
    "language_info": {
      "name": "python"
    }
  },
  "cells": [
    {
      "cell_type": "markdown",
      "source": [
        "Generate positive list of numbers from a given list of integers\n"
      ],
      "metadata": {
        "id": "Ntnkd_m8NCNN"
      }
    },
    {
      "cell_type": "code",
      "source": [
        "list1=[1,2,-6,-5,-4,-3,9,5]\n",
        "list2=[i for i in list1 if i>0]\n",
        "list2\n"
      ],
      "metadata": {
        "colab": {
          "base_uri": "https://localhost:8080/"
        },
        "id": "A8Fh_0j6NFZL",
        "outputId": "67aa73f6-3a76-4a50-db4d-ae4d50413913"
      },
      "execution_count": null,
      "outputs": [
        {
          "output_type": "execute_result",
          "data": {
            "text/plain": [
              "[1, 2, 9, 5]"
            ]
          },
          "metadata": {},
          "execution_count": 6
        }
      ]
    },
    {
      "cell_type": "markdown",
      "source": [
        "Square of N numbers\n"
      ],
      "metadata": {
        "id": "AwcmAhpCORyk"
      }
    },
    {
      "cell_type": "code",
      "source": [
        "list1=[2,6,5,9,3,4]\n",
        "list2=[i**2 for i in list1 ]\n",
        "list2"
      ],
      "metadata": {
        "colab": {
          "base_uri": "https://localhost:8080/"
        },
        "id": "sIJczGPPOVnj",
        "outputId": "6340dc34-1be2-4940-ef85-b036932ed384"
      },
      "execution_count": null,
      "outputs": [
        {
          "output_type": "execute_result",
          "data": {
            "text/plain": [
              "[4, 36, 25, 81, 9, 16]"
            ]
          },
          "metadata": {},
          "execution_count": 7
        }
      ]
    },
    {
      "cell_type": "markdown",
      "source": [
        "Form a list of vowels selected from a given word\n"
      ],
      "metadata": {
        "id": "KyUOi6xAOxV7"
      }
    },
    {
      "cell_type": "code",
      "source": [
        "list1=input(\"enter a word:\")\n",
        "list2=[i for i in list1 if i in \"aeiouAEIOU\"]\n",
        "print(list2)\n",
        "\n"
      ],
      "metadata": {
        "colab": {
          "base_uri": "https://localhost:8080/"
        },
        "id": "M7pJce8lO0Hl",
        "outputId": "151e637b-2cd4-4e1f-898a-f61bae066ed8"
      },
      "execution_count": null,
      "outputs": [
        {
          "output_type": "stream",
          "name": "stdout",
          "text": [
            "enter a word:beema mol\n",
            "['e', 'e', 'a', 'o']\n"
          ]
        }
      ]
    },
    {
      "cell_type": "markdown",
      "source": [
        "List ordinal value of each element of a word (Hint: use ord() to get ordinal values)\n"
      ],
      "metadata": {
        "id": "2p9LPWdcQbNK"
      }
    },
    {
      "cell_type": "code",
      "source": [
        "list1=input(\"enter a word:\")\n",
        "list2=[ord(i) for i in list1]\n",
        "print(list2)"
      ],
      "metadata": {
        "colab": {
          "base_uri": "https://localhost:8080/"
        },
        "id": "1vhfTpiaQcCa",
        "outputId": "7fed9200-211c-424e-d953-ee3d0f5030ab"
      },
      "execution_count": null,
      "outputs": [
        {
          "output_type": "stream",
          "name": "stdout",
          "text": [
            "enter a word:beema mol\n",
            "[98, 101, 101, 109, 97, 32, 109, 111, 108]\n"
          ]
        }
      ]
    },
    {
      "cell_type": "markdown",
      "source": [
        "co1 5Prompt the user for a list of integers. For all values greater than 100, store ‘over’ instead.\n"
      ],
      "metadata": {
        "id": "quEYMcP8R-Gy"
      }
    },
    {
      "cell_type": "code",
      "source": [
        "lim=int(input(\"enter the limit=\"))\n",
        "l1=[]\n",
        "print(\"enter \",lim,\"values\")\n",
        "for a in range(lim):\n",
        "  inp=int (input(\"enter value:\"))\n",
        "  if(inp>100):\n",
        "    l1.append(\"over\")\n",
        "  else:\n",
        "       l1.append(inp)\n",
        "  print(l1)\n",
        "\n"
      ],
      "metadata": {
        "id": "Vw7QUeNVR-xp",
        "colab": {
          "base_uri": "https://localhost:8080/"
        },
        "outputId": "8228454e-d213-4016-ad28-38a829de6dbd"
      },
      "execution_count": null,
      "outputs": [
        {
          "output_type": "stream",
          "name": "stdout",
          "text": [
            "enter the limit=3\n",
            "enter  3 values\n",
            "enter value:1\n",
            "[1]\n",
            "enter value:2\n",
            "[1, 2]\n",
            "enter value:3\n",
            "[1, 2, 3]\n"
          ]
        }
      ]
    },
    {
      "cell_type": "markdown",
      "source": [
        "c01 6 Store a list of first names. Count the occurrences of ‘a’ within the list\n",
        "\n"
      ],
      "metadata": {
        "id": "wgkvkEjHSKSs"
      }
    },
    {
      "cell_type": "code",
      "source": [
        "name=['beema','anzi','asif']\n",
        "for i in name:\n",
        "  print(\"a\",\"occurs in\",i,i.count('a'),\"times\")\n",
        "\n",
        "\n"
      ],
      "metadata": {
        "colab": {
          "base_uri": "https://localhost:8080/"
        },
        "id": "nREBGrCPSQjS",
        "outputId": "5b479444-7431-4a1f-c30d-db72c1afcd45"
      },
      "execution_count": null,
      "outputs": [
        {
          "output_type": "stream",
          "name": "stdout",
          "text": [
            "a occurs in beema 1 times\n",
            "a occurs in anzi 1 times\n",
            "a occurs in asif 1 times\n"
          ]
        }
      ]
    },
    {
      "cell_type": "markdown",
      "source": [
        "c02 9.\n",
        "Construct following pattern using nested loop\n"
      ],
      "metadata": {
        "id": "wnUXEK7UkJ68"
      }
    },
    {
      "cell_type": "code",
      "source": [
        "n=5;\n",
        "for i in range(n):\n",
        "    for j in range(i):\n",
        "        print('*',end=\" \")\n",
        "    print(\" \")\n",
        "\n",
        "for i in range(n,0,-1):\n",
        "       for j in range(i):\n",
        "            print('*',end=\" \")\n",
        "       print(\" \")"
      ],
      "metadata": {
        "colab": {
          "base_uri": "https://localhost:8080/"
        },
        "id": "0ihqLHaEkK_n",
        "outputId": "7224103b-b6f2-480c-97ea-65b3adf605ee"
      },
      "execution_count": null,
      "outputs": [
        {
          "output_type": "stream",
          "name": "stdout",
          "text": [
            " \n",
            "*  \n",
            "* *  \n",
            "* * *  \n",
            "* * * *  \n",
            "* * * * *  \n",
            "* * * *  \n",
            "* * *  \n",
            "* *  \n",
            "*  \n"
          ]
        }
      ]
    },
    {
      "cell_type": "markdown",
      "source": [
        "CO2:10:Generate all factors of a number.\n"
      ],
      "metadata": {
        "id": "6AlSsp1ymVn5"
      }
    },
    {
      "cell_type": "code",
      "source": [
        "num=int(input(\"enter the number:\"))\n",
        "for i in range (1,num+1):\n",
        "  if(num % i==0):\n",
        "      print(i)\n"
      ],
      "metadata": {
        "colab": {
          "base_uri": "https://localhost:8080/"
        },
        "id": "DY4ImbUKm_di",
        "outputId": "e214eeed-10aa-429a-eb74-aa119dba7d9b"
      },
      "execution_count": null,
      "outputs": [
        {
          "output_type": "stream",
          "name": "stdout",
          "text": [
            "enter the number:4\n",
            "1\n",
            "2\n",
            "4\n"
          ]
        }
      ]
    }
  ]
}