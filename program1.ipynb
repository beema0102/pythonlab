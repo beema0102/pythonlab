{
  "nbformat": 4,
  "nbformat_minor": 0,
  "metadata": {
    "colab": {
      "provenance": [],
      "toc_visible": true
    },
    "kernelspec": {
      "name": "python3",
      "display_name": "Python 3"
    },
    "language_info": {
      "name": "python"
    }
  },
  "cells": [
    {
      "cell_type": "code",
      "execution_count": null,
      "metadata": {
        "colab": {
          "base_uri": "https://localhost:8080/"
        },
        "id": "06MNbJ_gzWUD",
        "outputId": "a9c82533-15b1-4e67-d87d-a0585b9851d9"
      },
      "outputs": [
        {
          "output_type": "stream",
          "name": "stdout",
          "text": [
            "welcome to mits\n"
          ]
        }
      ],
      "source": [
        "#program to display message \"welcome to mits\"\n",
        "print(\"welcome to mits\")"
      ]
    },
    {
      "cell_type": "code",
      "source": [
        "#program to display the message \"muthoot institute of technology and science\",varikoli,puthencruz (\\n is an escape sequence)\n",
        "print(\"muthoot institute of technology and science\\nvarikoli\\nputhencruz\")\n"
      ],
      "metadata": {
        "colab": {
          "base_uri": "https://localhost:8080/"
        },
        "id": "n2sYo1ZS0Fa_",
        "outputId": "ad069df4-8173-4039-a9af-a69cf6f6c6e1"
      },
      "execution_count": null,
      "outputs": [
        {
          "output_type": "stream",
          "name": "stdout",
          "text": [
            "muthoot institute of technology and science\n",
            "varikoli\n",
            "puthencruz\n"
          ]
        }
      ]
    },
    {
      "cell_type": "code",
      "source": [
        "# another way for printing in new lines\n",
        "print(\"\"\"muthoot institute of technology and science\n",
        "varikoli\n",
        "puthencruz\"\"\")"
      ],
      "metadata": {
        "colab": {
          "base_uri": "https://localhost:8080/"
        },
        "id": "J3a7jle23oV9",
        "outputId": "6ee0affd-bf9f-48fc-bf09-2558cd36985b"
      },
      "execution_count": null,
      "outputs": [
        {
          "output_type": "stream",
          "name": "stdout",
          "text": [
            "muthoot institute of technology and science\n",
            "varikoli\n",
            "puthencruz\n"
          ]
        }
      ]
    },
    {
      "cell_type": "code",
      "source": [
        "#write a program to display message \"mary's notebook is white in colour\"\n",
        "print(\"mary's notebook is in white in colour\")"
      ],
      "metadata": {
        "id": "_jbRf8yK42_A",
        "colab": {
          "base_uri": "https://localhost:8080/"
        },
        "outputId": "cc6ff8e8-185e-4f32-d065-342493757bef"
      },
      "execution_count": null,
      "outputs": [
        {
          "output_type": "stream",
          "name": "stdout",
          "text": [
            "mary's notebook is in white in colour\n"
          ]
        }
      ]
    },
    {
      "cell_type": "code",
      "source": [
        "#write a program to assign values \"5 to x\" and \"10 to y\" and print the same (using assigment operator) find sum\n",
        "x=5\n",
        "y=10\n",
        "print(\"x=\",x)\n",
        "print(\"y=\",y)\n",
        "print(\"x+y=\",x+y)\n",
        "print(\"value of x=\",x)\n",
        "print(\"value of y=\",y)"
      ],
      "metadata": {
        "colab": {
          "base_uri": "https://localhost:8080/"
        },
        "id": "cfYTK1tN5Jg9",
        "outputId": "2b19fd4e-4309-426b-8aa7-4a4a6e636e3f"
      },
      "execution_count": null,
      "outputs": [
        {
          "output_type": "stream",
          "name": "stdout",
          "text": [
            "x= 5\n",
            "y= 10\n",
            "x+y= 15\n",
            "value of x= 5\n",
            "value of y= 10\n"
          ]
        }
      ]
    },
    {
      "cell_type": "code",
      "source": [
        "#write a program to input two numbers find sum difference and product\n",
        "x=int(input(\"enter the first number=\"))\n",
        "y=int(input(\"enter the second number=\"))\n",
        "print(\"value of x=\",x)\n",
        "print(\"value of y=\",y)\n",
        "print(\"sum=\",x+y)\n",
        "print(\"difference=\",x-y)\n",
        "print(\"product=\",x*y)\n"
      ],
      "metadata": {
        "colab": {
          "base_uri": "https://localhost:8080/"
        },
        "id": "jOPMIItH7KCT",
        "outputId": "205321e8-f28b-4940-8442-5accd7149f46"
      },
      "execution_count": null,
      "outputs": [
        {
          "output_type": "stream",
          "name": "stdout",
          "text": [
            "enter the first number=10\n",
            "enter the second number=5\n",
            "value of x= 10\n",
            "value of y= 5\n",
            "sum= 15\n",
            "difference= 5\n",
            "product= 50\n"
          ]
        }
      ]
    }
  ]
}