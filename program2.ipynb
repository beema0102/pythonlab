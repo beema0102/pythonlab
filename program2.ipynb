{
  "nbformat": 4,
  "nbformat_minor": 0,
  "metadata": {
    "colab": {
      "provenance": []
    },
    "kernelspec": {
      "name": "python3",
      "display_name": "Python 3"
    },
    "language_info": {
      "name": "python"
    }
  },
  "cells": [
    {
      "cell_type": "markdown",
      "source": [
        "write a program to input an number. if the number is greater than 10 display appropriate message"
      ],
      "metadata": {
        "id": "UhySkG3uSUgA"
      }
    },
    {
      "cell_type": "code",
      "execution_count": null,
      "metadata": {
        "colab": {
          "base_uri": "https://localhost:8080/"
        },
        "id": "FWPBtl0CBsVM",
        "outputId": "50c34232-370c-40dd-c795-fcb93d401dc4"
      },
      "outputs": [
        {
          "output_type": "stream",
          "name": "stdout",
          "text": [
            "enter a number:12\n",
            "12 the number is graeter than 10\n"
          ]
        }
      ],
      "source": [
        "\n",
        "x=int(input(\"enter a number:\"))\n",
        "if(x>10):\n",
        "  print(x,\"the number is greater than 10\")\n",
        "\n"
      ]
    },
    {
      "cell_type": "markdown",
      "source": [
        "write a program to input the age of a person check whether  the person is eligible to vote and display appropriate message"
      ],
      "metadata": {
        "id": "rfASv-pZSRgB"
      }
    },
    {
      "cell_type": "code",
      "source": [
        "\n",
        "x=int(input(\"enter a age:\"))\n",
        "if(x>18):\n",
        "   print(\"eligible for vote\",x)\n",
        "else:\n",
        "   print(\"not eligible for vote\",x)\n"
      ],
      "metadata": {
        "colab": {
          "base_uri": "https://localhost:8080/"
        },
        "id": "bJqJZ1v0B_uP",
        "outputId": "875eedbf-3444-4065-a54d-578c5bb0d030"
      },
      "execution_count": null,
      "outputs": [
        {
          "output_type": "stream",
          "name": "stdout",
          "text": [
            "enter a age:45\n",
            "eligible for vote 45\n"
          ]
        }
      ]
    },
    {
      "cell_type": "markdown",
      "source": [
        "write a program to input two numbers and find the largest of two numbers"
      ],
      "metadata": {
        "id": "jfs8xCJyTQ2j"
      }
    },
    {
      "cell_type": "code",
      "source": [
        "\n",
        "x=int(input(\"enter 1st number:\"))\n",
        "y=int(input(\"enter 2nd number:\"))\n",
        "if(x>y):\n",
        "   print(x,\"is largest\")\n",
        "else:\n",
        " print(y,\"is largest\")\n",
        "\n",
        "\n"
      ],
      "metadata": {
        "colab": {
          "base_uri": "https://localhost:8080/"
        },
        "id": "uAifHZRSCPvQ",
        "outputId": "0e58a9da-116c-4c0b-da46-1eb6df838bed"
      },
      "execution_count": null,
      "outputs": [
        {
          "output_type": "stream",
          "name": "stdout",
          "text": [
            "enter 1st number:90\n",
            "enter 2nd number:78\n",
            "90 is largest\n"
          ]
        }
      ]
    },
    {
      "cell_type": "markdown",
      "source": [
        "write a program to input a number check whether the number is odd or even"
      ],
      "metadata": {
        "id": "EPBB7_2UTNOW"
      }
    },
    {
      "cell_type": "code",
      "source": [
        "\n",
        "x=int(input(\"enter a number:\"))\n",
        "if(x%2==0):\n",
        "   print(x,\"is a even\")\n",
        "else:\n",
        "  print(x,\"is a odd\")\n"
      ],
      "metadata": {
        "colab": {
          "base_uri": "https://localhost:8080/"
        },
        "id": "Tg3ko6h8CYiw",
        "outputId": "fc8dea4b-3694-4530-a9cd-ac9c043e7f7e"
      },
      "execution_count": null,
      "outputs": [
        {
          "output_type": "stream",
          "name": "stdout",
          "text": [
            "enter a number:78\n",
            "78 is a even\n"
          ]
        }
      ]
    },
    {
      "cell_type": "markdown",
      "source": [
        "write a program to input two numbers find there sum display appropriate message if the sum is greater than 10"
      ],
      "metadata": {
        "id": "jEhb0Q3_TJmI"
      }
    },
    {
      "cell_type": "code",
      "source": [
        "\n",
        "x=int(input(\"enter 1st number:\"))\n",
        "y=int(input(\"enter 2nd number:\"))\n",
        "sum=x+y\n",
        "if(sum>10):\n",
        "  print(sum,\"is greater than 10\")\n",
        "else:\n",
        "  print(sum,\"is not greater than 10\")"
      ],
      "metadata": {
        "colab": {
          "base_uri": "https://localhost:8080/"
        },
        "id": "Lt8Owj0FCjOX",
        "outputId": "024c97f0-4605-4224-e372-2f90fd9ae506"
      },
      "execution_count": null,
      "outputs": [
        {
          "output_type": "stream",
          "name": "stdout",
          "text": [
            "enter 1st number:34\n",
            "enter 2nd number:89\n",
            "123 is greater than 10\n"
          ]
        }
      ]
    },
    {
      "cell_type": "markdown",
      "source": [
        "write a program find the largest of three number"
      ],
      "metadata": {
        "id": "X-4qdhIsTFiR"
      }
    },
    {
      "cell_type": "code",
      "source": [
        "\n",
        "\n",
        "x=int(input(\"enter 1st number:\"))\n",
        "y=int(input(\"enter 2nd number:\"))\n",
        "z=int(input(\"enter 3rd number:\"))\n",
        "if(x>y)and(x>z):\n",
        "    print(x,\"is greater\")\n",
        "elif(y>x)and(y>z):\n",
        "    print(y,\"is greater\")\n",
        "else:\n",
        "    print(z,\"is greater\")\n",
        "\n",
        "\n"
      ],
      "metadata": {
        "colab": {
          "base_uri": "https://localhost:8080/"
        },
        "id": "JvbPgjvzCtwn",
        "outputId": "cb6d6f90-ce02-44cb-b22c-e115de5b85b8"
      },
      "execution_count": null,
      "outputs": [
        {
          "output_type": "stream",
          "name": "stdout",
          "text": [
            "enter 1st number:89\n",
            "enter 2nd number:98\n",
            "enter 3rd number:35\n",
            "98 is greater\n"
          ]
        }
      ]
    },
    {
      "cell_type": "markdown",
      "source": [
        "write a program to display the first N natural numbers"
      ],
      "metadata": {
        "id": "RyuJj9MESjlv"
      }
    },
    {
      "cell_type": "code",
      "source": [
        "x=int(input(\"enter the limit:\"))\n",
        "for i in range (x):\n",
        "    print(i)\n"
      ],
      "metadata": {
        "colab": {
          "base_uri": "https://localhost:8080/"
        },
        "id": "3mkuEVxSTW02",
        "outputId": "cea97075-9945-4c52-afdd-0459812c58ec"
      },
      "execution_count": null,
      "outputs": [
        {
          "output_type": "stream",
          "name": "stdout",
          "text": [
            "enter the limit:30\n",
            "0\n",
            "1\n",
            "2\n",
            "3\n",
            "4\n",
            "5\n",
            "6\n",
            "7\n",
            "8\n",
            "9\n",
            "10\n",
            "11\n",
            "12\n",
            "13\n",
            "14\n",
            "15\n",
            "16\n",
            "17\n",
            "18\n",
            "19\n",
            "20\n",
            "21\n",
            "22\n",
            "23\n",
            "24\n",
            "25\n",
            "26\n",
            "27\n",
            "28\n",
            "29\n"
          ]
        }
      ]
    },
    {
      "cell_type": "markdown",
      "source": [
        "write aprogram to display the first N even numbers"
      ],
      "metadata": {
        "id": "0wSwJyLESsbY"
      }
    },
    {
      "cell_type": "code",
      "source": [
        "x=int(input(\"enter the limit:\"))\n",
        "for i in range(2,x+1):\n",
        "  if(i%2==0):\n",
        "     print(i)"
      ],
      "metadata": {
        "colab": {
          "base_uri": "https://localhost:8080/"
        },
        "id": "7cOTFASvUy5m",
        "outputId": "6cdffda6-2265-4e91-9c9c-bc14914f8688"
      },
      "execution_count": null,
      "outputs": [
        {
          "output_type": "stream",
          "name": "stdout",
          "text": [
            "enter the limit:10\n",
            "2\n",
            "4\n",
            "6\n",
            "8\n",
            "10\n"
          ]
        }
      ]
    },
    {
      "cell_type": "markdown",
      "source": [
        "write a program to display even numbers up to N"
      ],
      "metadata": {
        "id": "QAyyI5XUSxso"
      }
    },
    {
      "cell_type": "markdown",
      "source": [],
      "metadata": {
        "id": "2Zgjxlv2S36H"
      }
    },
    {
      "cell_type": "code",
      "source": [
        "for i in range(1,10):\n",
        "  print(i)"
      ],
      "metadata": {
        "colab": {
          "base_uri": "https://localhost:8080/"
        },
        "id": "EOCQepzQTmfI",
        "outputId": "dae45d4a-93e4-4dd9-9ac1-c377cb386c02"
      },
      "execution_count": null,
      "outputs": [
        {
          "output_type": "stream",
          "name": "stdout",
          "text": [
            "1\n",
            "2\n",
            "3\n",
            "4\n",
            "5\n",
            "6\n",
            "7\n",
            "8\n",
            "9\n"
          ]
        }
      ]
    },
    {
      "cell_type": "markdown",
      "source": [
        "co1 :2 Display future leap years from current year to a final year entered by user."
      ],
      "metadata": {
        "id": "pRlpIB77AzYw"
      }
    },
    {
      "cell_type": "code",
      "source": [
        "x=int(input(\"enter a year:\"))\n",
        "if((x%4==0) and (x%100!=0)) or (x%400==0):\n",
        "     print(x,\"is a leap year\")\n",
        "else:\n",
        "     print(x,\"is a not a leap year\")\n"
      ],
      "metadata": {
        "colab": {
          "base_uri": "https://localhost:8080/"
        },
        "id": "aRUWog_tA-Yb",
        "outputId": "ed6b2e5b-3e2d-49cc-b5ec-b687786d8738"
      },
      "execution_count": null,
      "outputs": [
        {
          "output_type": "stream",
          "name": "stdout",
          "text": [
            "enter a year:2020\n",
            "2020 is a leap year\n"
          ]
        }
      ]
    },
    {
      "cell_type": "markdown",
      "source": [
        "co1: 10 Accept the radius from user and find area of circle"
      ],
      "metadata": {
        "id": "5lqE50wAJmoL"
      }
    },
    {
      "cell_type": "code",
      "source": [
        "r=int(input(\"enter the radius:\"))\n",
        "radius=(3.14*r*r)\n",
        "print(radius)"
      ],
      "metadata": {
        "colab": {
          "base_uri": "https://localhost:8080/"
        },
        "id": "5KwD5RF6JuDA",
        "outputId": "656651f4-2569-4579-b152-b1f6603ef269"
      },
      "execution_count": null,
      "outputs": [
        {
          "output_type": "stream",
          "name": "stdout",
          "text": [
            "enter the radius:4\n",
            "50.24\n"
          ]
        }
      ]
    },
    {
      "cell_type": "markdown",
      "source": [
        "co1:11 Find biggest of 3 numbers entered."
      ],
      "metadata": {
        "id": "EbwrmSNGKg51"
      }
    },
    {
      "cell_type": "code",
      "source": [
        "a=int(input(\"enter the first number:\"))\n",
        "b=int(input(\"enter the second number:\"))\n",
        "c=int(input(\"enter the third number:\"))\n",
        "if(a>b) and (a>c):\n",
        "     print(a,\"is greater\")\n",
        "elif(b>a)and(b>c):\n",
        "     print(b,\"is greater\")\n",
        "else:\n",
        "     print(c,\"is greater\")\n"
      ],
      "metadata": {
        "colab": {
          "base_uri": "https://localhost:8080/"
        },
        "id": "L04wImo6KoYc",
        "outputId": "f6a1d674-5b4f-4d4e-bef8-1e153644c384"
      },
      "execution_count": null,
      "outputs": [
        {
          "output_type": "stream",
          "name": "stdout",
          "text": [
            "ente the first number:34\n",
            "ente the second number:56\n",
            "ente the third number:76\n",
            "76 is greater\n"
          ]
        }
      ]
    },
    {
      "cell_type": "markdown",
      "source": [
        "**co2**:1 Program to find the factorial of a number"
      ],
      "metadata": {
        "id": "5Wm74o6sONTN"
      }
    },
    {
      "cell_type": "code",
      "source": [
        "n=int(input(\"enter a number\"))\n",
        "fact=1\n",
        "for i in range(1,n+1):\n",
        "  fact=fact*i\n",
        "print(\"factorial of\",n,\"is\",fact)"
      ],
      "metadata": {
        "colab": {
          "base_uri": "https://localhost:8080/"
        },
        "id": "6RS4xmLIOMRu",
        "outputId": "183028f4-227b-4b4f-8db3-465a2470adc8"
      },
      "execution_count": null,
      "outputs": [
        {
          "output_type": "stream",
          "name": "stdout",
          "text": [
            "enter a number3\n",
            "factorial of 3 is 6\n"
          ]
        }
      ]
    },
    {
      "cell_type": "markdown",
      "source": [
        "co2:Generate Fibonacci series of N terms\n"
      ],
      "metadata": {
        "id": "vUPKS5IOQAHP"
      }
    },
    {
      "cell_type": "code",
      "source": [
        "a=0\n",
        "b=1\n",
        "n=int(input(\"enter the limit:\"))\n",
        "print(a)\n",
        "print(b)\n",
        "for i in range(n-2):\n",
        "  c=a+b\n",
        "  print(c)\n",
        "  a=b\n",
        "  b=c"
      ],
      "metadata": {
        "id": "jpQEhEC-Qgbv",
        "colab": {
          "base_uri": "https://localhost:8080/"
        },
        "outputId": "a738eb39-fa46-4221-eddd-0b5d62a6bed4"
      },
      "execution_count": null,
      "outputs": [
        {
          "output_type": "stream",
          "name": "stdout",
          "text": [
            "enter the limit:5\n",
            "0\n",
            "1\n",
            "1\n",
            "2\n",
            "3\n"
          ]
        }
      ]
    },
    {
      "cell_type": "markdown",
      "source": [
        "co2:6\n",
        "Count the number of characters (character frequency) in a string"
      ],
      "metadata": {
        "id": "UDc_slW8rHmk"
      }
    },
    {
      "cell_type": "code",
      "source": [
        "name=str(input(\"enter a string:\"))\n",
        "for i in name:\n",
        "    frequency=name.count(i)\n",
        "    print(str(i)+\":\"+str(frequency),end=\",\")\n",
        "\n",
        "\n"
      ],
      "metadata": {
        "id": "tjeBGBoarIb6",
        "colab": {
          "base_uri": "https://localhost:8080/"
        },
        "outputId": "3f7a72c6-dfbc-429d-b2d6-e8a26cbc8420"
      },
      "execution_count": null,
      "outputs": [
        {
          "output_type": "stream",
          "name": "stdout",
          "text": [
            "enter a string:beema\n",
            "b:1,e:2,e:2,m:1,a:1,"
          ]
        }
      ]
    },
    {
      "cell_type": "markdown",
      "source": [
        "co1:19\n",
        "Find gcd of 2 numbers.\n"
      ],
      "metadata": {
        "id": "S3gZE3aOtVLJ"
      }
    },
    {
      "cell_type": "code",
      "source": [
        "num1=int(input(\"enter the number1:\"))\n",
        "num2=int(input(\"enter the number2:\"))\n",
        "for i in range (1,min(num1,num2)):\n",
        "  if num1%i==0 and num2%i==0:\n",
        "    gcd=i\n",
        "print(\"The gcd of\", num1 ,\"and\", num2 ,\"is:\",gcd)"
      ],
      "metadata": {
        "colab": {
          "base_uri": "https://localhost:8080/"
        },
        "id": "pdceIqeJtddM",
        "outputId": "016ecad3-2557-48b7-8521-cf2e2cf22426"
      },
      "execution_count": null,
      "outputs": [
        {
          "output_type": "stream",
          "name": "stdout",
          "text": [
            "enter the number1:30\n",
            "enter the number2:40\n",
            "The gcd of 30 and 40 is: 10\n"
          ]
        }
      ]
    },
    {
      "cell_type": "markdown",
      "source": [
        "c01:20From a list of integers, create a list removing even numbers.\n"
      ],
      "metadata": {
        "id": "nwUtMceowxaQ"
      }
    },
    {
      "cell_type": "code",
      "source": [
        "list1=[1,2,4,6,3,5,8,7,9]\n",
        "list2=[i for i in list1 if i%2!=0]\n",
        "list2"
      ],
      "metadata": {
        "id": "b3vhTyoRxVvH",
        "colab": {
          "base_uri": "https://localhost:8080/"
        },
        "outputId": "97070e5b-2655-4687-e29b-b04a27daf878"
      },
      "execution_count": null,
      "outputs": [
        {
          "output_type": "execute_result",
          "data": {
            "text/plain": [
              "[1, 3, 5, 7, 9]"
            ]
          },
          "metadata": {},
          "execution_count": 40
        }
      ]
    },
    {
      "cell_type": "markdown",
      "source": [
        "co1:14 Accept an integer n and compute n+nn+nnn.\n"
      ],
      "metadata": {
        "id": "MfgOAnXG1md6"
      }
    },
    {
      "cell_type": "code",
      "source": [
        "a = int(input(\"Input an integer : \"))\n",
        "n1 = int( \"%s\" % a )\n",
        "n2 = int( \"%s%s\" % (a,a) )\n",
        "n3 = int( \"%s%s%s\" % (a,a,a) )\n",
        "print (n1+n2+n3)"
      ],
      "metadata": {
        "colab": {
          "base_uri": "https://localhost:8080/"
        },
        "id": "QvkBQu5t1qtG",
        "outputId": "8310281e-9733-4a42-dee6-507b24400678"
      },
      "execution_count": null,
      "outputs": [
        {
          "output_type": "stream",
          "name": "stdout",
          "text": [
            "Input an integer : 3\n",
            "369\n"
          ]
        }
      ]
    },
    {
      "cell_type": "markdown",
      "source": [
        "c01:7 Enter 2 lists of integers. Check (a) Whether list are of same length (b) whether list sums to same value (c) whether any value occur in both\n"
      ],
      "metadata": {
        "id": "DkjrEvsjK4dP"
      }
    },
    {
      "cell_type": "code",
      "source": [
        "l1=[]\n",
        "l2=[]\n",
        "n1=int(input(\"Enter the size of list 1 : \"))\n",
        "print(\"Enter list 1 : \")\n",
        "for i in range(n1):\n",
        "  i=int(input())\n",
        "  l1.append(i)\n",
        "\n",
        "n2=int(input(\"Enter the size of list 2 : \"))\n",
        "print(\"Enter list 2 : \")\n",
        "for i in range(n2):\n",
        "  i=int(input())\n",
        "  l2.append(i)\n",
        "\n",
        "if n1==n2:\n",
        "  print(\"Lists are of same length\")\n",
        "else:\n",
        "  print(\"Lists are of different length\")\n",
        "\n",
        "\n",
        "if sum(l1)==sum(l2):\n",
        "  print(\"Sum of lists are of same\")\n",
        "else:\n",
        "  print(\"Sum of lists are different\")\n",
        "\n",
        "res=[i for i in l1 if i in l2]\n",
        "print(\"Common elements : \",res)\n",
        "\n",
        "\n",
        "\n",
        "\n",
        "\n",
        "\n"
      ],
      "metadata": {
        "colab": {
          "base_uri": "https://localhost:8080/"
        },
        "id": "UN-3__kULCme",
        "outputId": "34c500ad-be4c-4d59-8d92-7d05404f56ba"
      },
      "execution_count": null,
      "outputs": [
        {
          "output_type": "stream",
          "name": "stdout",
          "text": [
            "Enter the size of list 1 : 4\n",
            "Enter list 1 : \n",
            "1\n",
            "2\n",
            "4\n",
            "5\n",
            "Enter the size of list 2 : 4\n",
            "Enter list 2 : \n",
            "2\n",
            "6\n",
            "7\n",
            "9\n",
            "Lists are of same length\n",
            "Sum of lists are different\n",
            "Common elements :  [2]\n"
          ]
        }
      ]
    },
    {
      "cell_type": "markdown",
      "source": [
        "c01 9 Create a string from given string where first and last characters exchanged.  [eg: python -\n",
        "> nythop]\n"
      ],
      "metadata": {
        "id": "f2VaoXMNeiyw"
      }
    },
    {
      "cell_type": "code",
      "source": [
        "name=\"beema\"\n",
        "name[-1]+ name[1:-1]+name[0]#string concatination\"+\"\"\n",
        "\n"
      ],
      "metadata": {
        "colab": {
          "base_uri": "https://localhost:8080/",
          "height": 35
        },
        "id": "km-L39DnOYyB",
        "outputId": "b4572482-1946-4cf0-92ad-5af313b780f5"
      },
      "execution_count": null,
      "outputs": [
        {
          "output_type": "execute_result",
          "data": {
            "text/plain": [
              "'aeemb'"
            ],
            "application/vnd.google.colaboratory.intrinsic+json": {
              "type": "string"
            }
          },
          "metadata": {},
          "execution_count": 19
        }
      ]
    },
    {
      "cell_type": "code",
      "source": [
        "n=int(input(\"enter n:\"))\n",
        "for i in range(1,n+1):\n",
        "  print(\"*\"*i)\n",
        "for i in range(n-1,0,-1):\n",
        "  print(\"*\"*i)\n",
        "\n"
      ],
      "metadata": {
        "colab": {
          "base_uri": "https://localhost:8080/"
        },
        "id": "g-gDeLAbRqHZ",
        "outputId": "374c6fa2-6131-4208-eab3-97f1f209644f"
      },
      "execution_count": null,
      "outputs": [
        {
          "output_type": "stream",
          "name": "stdout",
          "text": [
            "enter n:5\n",
            "*\n",
            "**\n",
            "***\n",
            "****\n",
            "*****\n",
            "****\n",
            "***\n",
            "**\n",
            "*\n"
          ]
        }
      ]
    },
    {
      "cell_type": "code",
      "source": [
        "print(\"*\"*4)"
      ],
      "metadata": {
        "colab": {
          "base_uri": "https://localhost:8080/"
        },
        "id": "De6e6gP3SFPD",
        "outputId": "bea97698-758c-4a8c-c05e-66743280719b"
      },
      "execution_count": null,
      "outputs": [
        {
          "output_type": "stream",
          "name": "stdout",
          "text": [
            "****\n"
          ]
        }
      ]
    },
    {
      "cell_type": "markdown",
      "source": [
        "c02 7 Add ‘ing’ at the end of a given string. If it already ends with ‘ing’, then add ‘ly’\n"
      ],
      "metadata": {
        "id": "jj_x4OqyW95I"
      }
    },
    {
      "cell_type": "code",
      "source": [
        "def add_ing_ly(s):\n",
        "     if s.endswith('ing'):\n",
        "       return s+'LY'\n",
        "     else:\n",
        "       return s+'ING'\n",
        "string=input(\"enter the string:\")\n",
        "result_string = add_ing_ly(string)\n",
        "print(\"result:\",result_string)\n"
      ],
      "metadata": {
        "colab": {
          "base_uri": "https://localhost:8080/"
        },
        "id": "XBiCF11URp50",
        "outputId": "0e13d667-e99d-4637-c041-76a2f62e720c"
      },
      "execution_count": null,
      "outputs": [
        {
          "output_type": "stream",
          "name": "stdout",
          "text": [
            "enter the string:play\n",
            "result: playING\n"
          ]
        }
      ]
    },
    {
      "cell_type": "markdown",
      "source": [
        "c02 11Write lambda functions to find area of square, rectangle and triangle.\n"
      ],
      "metadata": {
        "id": "--eIr4SxVX0M"
      }
    },
    {
      "cell_type": "code",
      "source": [
        "#area of square\n",
        "import math\n",
        "p=int(input(\"enter the number:\"))\n",
        "lamb1 = lambda p: p*p\n",
        "print(\"area of square\",lamb1(p))\n",
        "#area of rectangle\n",
        "q=int(input(\"enter the number:\"))\n",
        "r=int(input(\"enter the number:\"))\n",
        "lamb2=lambda q,r:q*r\n",
        "print(\"area of rectangle\",lamb2(q,r))\n",
        "#area of triangle\n",
        "a=int(input(\"enter the number:\"))\n",
        "b=int(input(\"enter the number:\"))\n",
        "lamb3=lambda a,b:0.5*a*b\n",
        "print(\"area of traiangle\",lamb3(a,b))\n"
      ],
      "metadata": {
        "colab": {
          "base_uri": "https://localhost:8080/"
        },
        "id": "bwty0D8FVZFa",
        "outputId": "073742b2-8a8c-43c7-8b02-e3c9b00dfb60"
      },
      "execution_count": null,
      "outputs": [
        {
          "output_type": "stream",
          "name": "stdout",
          "text": [
            "enter the number:2\n",
            "area of square 4\n",
            "enter the number:3\n",
            "enter the number:1\n",
            "area of rectangle 3\n",
            "enter the number:4\n",
            "enter the number:2\n",
            "area of traiangle 4.0\n"
          ]
        }
      ]
    },
    {
      "cell_type": "markdown",
      "source": [
        "Merge two dictionaries.\n"
      ],
      "metadata": {
        "id": "4EBkOIvabLCW"
      }
    },
    {
      "cell_type": "code",
      "source": [
        "d1={\"name\":\"beema\",\"age\":\"21\",\"height\":\"150\"}\n",
        "print(d1)\n",
        "print(d1.keys())\n",
        "print(d1.values())\n",
        "print(d1[\"age\"])\n",
        "d1.update({\"name\":\"basil\"})\n",
        "print(d1)\n",
        "d2={'mobile':7025195640}\n",
        "print(d1|d2)\n",
        "d3={**d1,**d2}\n",
        "print(d3)\n",
        "d1.update({\"age\":\"23\"})\n",
        "print(d1)\n",
        "d1.update({\"z\":\"23\"})\n",
        "print(d1)\n",
        "sorted(d1.keys())\n",
        "sorted(d1.items())"
      ],
      "metadata": {
        "colab": {
          "base_uri": "https://localhost:8080/"
        },
        "id": "JUw_IcsSdiDo",
        "outputId": "dce182e7-b6a5-45c1-d1d3-0fc623cfc6b2"
      },
      "execution_count": null,
      "outputs": [
        {
          "output_type": "stream",
          "name": "stdout",
          "text": [
            "{'name': 'beema', 'age': '21', 'height': '150'}\n",
            "dict_keys(['name', 'age', 'height'])\n",
            "dict_values(['beema', '21', '150'])\n",
            "21\n",
            "{'name': 'basil', 'age': '21', 'height': '150'}\n",
            "{'name': 'basil', 'age': '21', 'height': '150', 'mobile': 7025195640}\n",
            "{'name': 'basil', 'age': '21', 'height': '150', 'mobile': 7025195640}\n",
            "{'name': 'basil', 'age': '23', 'height': '150'}\n",
            "{'name': 'basil', 'age': '23', 'height': '150', 'z': '23'}\n"
          ]
        },
        {
          "output_type": "execute_result",
          "data": {
            "text/plain": [
              "[('age', '23'), ('height', '150'), ('name', 'basil'), ('z', '23')]"
            ]
          },
          "metadata": {},
          "execution_count": 62
        }
      ]
    },
    {
      "cell_type": "markdown",
      "source": [
        "c01 4Count the occurrences of each word in a line of text.\n"
      ],
      "metadata": {
        "id": "iQHW5fliiqza"
      }
    },
    {
      "cell_type": "code",
      "source": [
        "sent=input(\"enter a sentence:\")\n",
        "word=sent.split()\n",
        "for a in word:\n",
        "  print(\"the word\" +a+ \"has occured\",word.count(a),\"times\")\n",
        "\n",
        "\n"
      ],
      "metadata": {
        "id": "k_0cNukViuzI",
        "colab": {
          "base_uri": "https://localhost:8080/"
        },
        "outputId": "2252da26-296e-4057-8533-c8f9ee863c07"
      },
      "execution_count": null,
      "outputs": [
        {
          "output_type": "stream",
          "name": "stdout",
          "text": [
            "enter a sentence:beema is a beautiful girl,this girl is good \n",
            "the wordbeemahas occured 1 times\n",
            "the wordishas occured 2 times\n",
            "the wordahas occured 1 times\n",
            "the wordbeautifulhas occured 1 times\n",
            "the wordgirl,thishas occured 1 times\n",
            "the wordgirlhas occured 1 times\n",
            "the wordishas occured 2 times\n",
            "the wordgoodhas occured 1 times\n"
          ]
        }
      ]
    },
    {
      "cell_type": "markdown",
      "source": [
        "c02 :8 Accept a list of words and return length of longest word.\n"
      ],
      "metadata": {
        "id": "ik7GjNOPTF36"
      }
    },
    {
      "cell_type": "code",
      "source": [
        "arr=[ ]\n",
        "word=\"\"\n",
        "print(\"enter a 5 words:\")\n",
        "for i in range(5):\n",
        "  arr.append(input(\"enter element:\"))\n",
        "l=0\n",
        "for a in arr:\n",
        "  if len(a)>1:\n",
        "    l=len(a)\n",
        "    word=a\n",
        "print(\"longest word:\",word)\n",
        "print(\"length:\",l)\n"
      ],
      "metadata": {
        "colab": {
          "base_uri": "https://localhost:8080/"
        },
        "id": "Cfyh7658TKoM",
        "outputId": "5c64c072-a96f-4689-a901-c298c7c0fe96"
      },
      "execution_count": null,
      "outputs": [
        {
          "output_type": "stream",
          "name": "stdout",
          "text": [
            "enter a 5 words:\n",
            "enter element:beema\n",
            "enter element:is\n",
            "enter element:a\n",
            "enter element:good\n",
            "enter element:student\n",
            "longest word: student\n",
            "length: 7\n"
          ]
        }
      ]
    },
    {
      "cell_type": "markdown",
      "source": [
        "c02 3:Find the sum of all items in a list\n"
      ],
      "metadata": {
        "id": "3a4sx44PU75F"
      }
    },
    {
      "cell_type": "code",
      "source": [
        "list1={23,45,60,34,67}\n",
        "sum(list1)"
      ],
      "metadata": {
        "colab": {
          "base_uri": "https://localhost:8080/"
        },
        "id": "1azPC0jLW7fC",
        "outputId": "de65afea-8c95-499c-f4d2-4fc26b834ebc"
      },
      "execution_count": null,
      "outputs": [
        {
          "output_type": "execute_result",
          "data": {
            "text/plain": [
              "229"
            ]
          },
          "metadata": {},
          "execution_count": 9
        }
      ]
    },
    {
      "cell_type": "markdown",
      "source": [
        "co2:4 Generate a list of four digit numbers in a given range with all their digits even and the number is a perfect square.\n"
      ],
      "metadata": {
        "id": "Ti_H1wimYDEm"
      }
    },
    {
      "cell_type": "code",
      "source": [
        "import math\n",
        "u=int(input(\"Enter upper range: \"))\n",
        "for i in range(1000,u+1):\n",
        "     if i%2==0:\n",
        "        sqrt_num = math. sqrt(i)\n",
        "        if sqrt_num. is_integer():\n",
        "                 print(i)"
      ],
      "metadata": {
        "colab": {
          "base_uri": "https://localhost:8080/"
        },
        "id": "agv-3PgFYKtT",
        "outputId": "6fb0824d-7e89-48c7-f99b-a020c0840664"
      },
      "execution_count": null,
      "outputs": [
        {
          "output_type": "stream",
          "name": "stdout",
          "text": [
            "Enter upper range: 1500\n",
            "1024\n",
            "1156\n",
            "1296\n",
            "1444\n"
          ]
        }
      ]
    },
    {
      "cell_type": "markdown",
      "source": [
        "co2 :5 Display the given pyramid with step number accepted from user. Eg: N=4\n",
        "1\n",
        "2 4\n",
        "3 6 9\n",
        "4 8 12 16\n"
      ],
      "metadata": {
        "id": "ghX9-cD90-lG"
      }
    },
    {
      "cell_type": "code",
      "source": [
        "n = int(input(\"Enter number of rows: \"))\n",
        "for i in range(1,n+1):\n",
        " for j in range(1,i+1):\n",
        "  print(j*i,end=\" \")\n",
        " print()"
      ],
      "metadata": {
        "colab": {
          "base_uri": "https://localhost:8080/"
        },
        "id": "5gPuwWEs1Gv3",
        "outputId": "994025f6-bdb1-498c-b671-696f0c258582"
      },
      "execution_count": null,
      "outputs": [
        {
          "output_type": "stream",
          "name": "stdout",
          "text": [
            "Enter number of rows: 5\n",
            "1 \n",
            "2 4 \n",
            "3 6 9 \n",
            "4 8 12 16 \n",
            "5 10 15 20 25 \n"
          ]
        }
      ]
    },
    {
      "cell_type": "markdown",
      "source": [
        "c0 8: Get a string from an input string where all occurrences of first character replaced with ‘$’, except first character.\n"
      ],
      "metadata": {
        "id": "_qoXsJk315as"
      }
    },
    {
      "cell_type": "code",
      "source": [
        "str1=input(\"Enter a word : \")\n",
        "f_c=str1[0]\n",
        "str1=str1.replace(f_c,'$')\n",
        "str1=f_c+str1[1:]\n",
        "print(str1)\n"
      ],
      "metadata": {
        "colab": {
          "base_uri": "https://localhost:8080/"
        },
        "id": "Zn_FoJV8AVDW",
        "outputId": "68c794e9-0487-4b20-9ec0-a562a817f3bf"
      },
      "execution_count": null,
      "outputs": [
        {
          "output_type": "stream",
          "name": "stdout",
          "text": [
            "Enter a word : eema\n",
            "e$ma\n"
          ]
        }
      ]
    },
    {
      "cell_type": "markdown",
      "source": [
        "co1 11 Find biggest of 3 numbers entered.\n"
      ],
      "metadata": {
        "id": "SEpV0M0jBROw"
      }
    },
    {
      "cell_type": "code",
      "source": [
        "a=int(input(\"Enter the first number : \"))\n",
        "b=int(input(\"Enter the second number : \"))\n",
        "c=int(input(\"Enter the third number : \"))\n",
        "if a>b and a>c:\n",
        "  print(a, \"is the largest number\")\n",
        "elif b>a and b>c:\n",
        "  print(b, \"is the largest number\")\n",
        "else:\n",
        "  print(c, \"is the largest number\")"
      ],
      "metadata": {
        "colab": {
          "base_uri": "https://localhost:8080/"
        },
        "id": "CwafMCQNBP9W",
        "outputId": "8c114f56-1dbb-492f-aa3e-eabe51606022"
      },
      "execution_count": null,
      "outputs": [
        {
          "output_type": "stream",
          "name": "stdout",
          "text": [
            "Enter the first number : 2\n",
            "Enter the second number : 3\n",
            "Enter the third number : 5\n",
            "5 is the largest number\n"
          ]
        }
      ]
    },
    {
      "cell_type": "markdown",
      "source": [
        "co1:12 Accept a file name from user and print extension of that.\n"
      ],
      "metadata": {
        "id": "xGlucY-WxPkv"
      }
    },
    {
      "cell_type": "code",
      "source": [
        "f_name=input(\"Enter a filename : \")\n",
        "f_ext=f_name.split(\".\")\n",
        "print(\"Extension : \",f_ext[-1])"
      ],
      "metadata": {
        "colab": {
          "base_uri": "https://localhost:8080/"
        },
        "id": "9qE3LnyVxNsV",
        "outputId": "6edea965-b063-4221-a9cf-edba7579962d"
      },
      "execution_count": null,
      "outputs": [
        {
          "output_type": "stream",
          "name": "stdout",
          "text": [
            "Enter a filename : beema.html\n",
            "Extension :  html\n"
          ]
        }
      ]
    },
    {
      "cell_type": "markdown",
      "source": [
        " co1:13Create a list of colors from comma-separated color names entered by user. Display first and last colors."
      ],
      "metadata": {
        "id": "xAjPmO4IxxtZ"
      }
    },
    {
      "cell_type": "code",
      "source": [
        "colors=[\"Red\",\"Yellow\",\"Green\",\"Blue\",\"Violet\"]\n",
        "print(\"First color : \",colors[0],\" Last color : \",colors[-1])\n"
      ],
      "metadata": {
        "colab": {
          "base_uri": "https://localhost:8080/"
        },
        "id": "Lbq8xXhPx8tv",
        "outputId": "bad13171-992e-446c-9688-975c857f032f"
      },
      "execution_count": null,
      "outputs": [
        {
          "output_type": "stream",
          "name": "stdout",
          "text": [
            "First color :  Red  Last color :  Violet\n"
          ]
        }
      ]
    },
    {
      "cell_type": "markdown",
      "source": [
        "co1:15Print out all colors from color-list1 not contained in color-list2.\n"
      ],
      "metadata": {
        "id": "vEkUChKXyDRK"
      }
    },
    {
      "cell_type": "code",
      "source": [
        "c1=[\"Red\",\"Yellow\",\"Green\",\"Blue\",\"Violet\"]\n",
        "c2=[\"Cyan\",\"Yellow\",\"Pink\",\"Blue\",\"Magenta\"]\n",
        "res=[i for i in c2 if i not in c1]\n",
        "print(\"Colors from color-list 1 not in colo-list 2 : \",res)"
      ],
      "metadata": {
        "colab": {
          "base_uri": "https://localhost:8080/"
        },
        "id": "irSmQovWyKJp",
        "outputId": "98929045-c8cf-4211-c737-272ef1ff889d"
      },
      "execution_count": null,
      "outputs": [
        {
          "output_type": "stream",
          "name": "stdout",
          "text": [
            "Colors from color-list 1 not in colo-list 2 :  ['Cyan', 'Pink', 'Magenta']\n"
          ]
        }
      ]
    },
    {
      "cell_type": "markdown",
      "source": [
        "co1:16Create a single string separated with space from two strings by swapping the character at position 1.\n"
      ],
      "metadata": {
        "id": "OEttG7V8yTCT"
      }
    },
    {
      "cell_type": "code",
      "source": [
        "s1=input(\"Enter string 1 : \")\n",
        "s2=input(\"Enter string 2 : \")\n",
        "s3=s2[0]+s1[1:]+\" \"+s1[0]+s2[1:]\n",
        "print(\"Swapped string :\",s3)\n"
      ],
      "metadata": {
        "colab": {
          "base_uri": "https://localhost:8080/"
        },
        "id": "h1_tjiECyWFq",
        "outputId": "5e8cfc21-a6be-446a-aac4-ba7ea5f92040"
      },
      "execution_count": null,
      "outputs": [
        {
          "output_type": "stream",
          "name": "stdout",
          "text": [
            "Enter string 1 : beema\n",
            "Enter string 2 : mol\n",
            "Swapped string : meema bol\n"
          ]
        }
      ]
    },
    {
      "cell_type": "code",
      "source": [
        "d = {'beema': 10, 'alfi': 20,'badu': 30}\n",
        "print(\"Ascending order : \",dict(sorted(d.items())))\n",
        "print(\"Descending order : \",dict(sorted(d.items(), reverse=True)))\n"
      ],
      "metadata": {
        "colab": {
          "base_uri": "https://localhost:8080/"
        },
        "id": "Fuv_jyJGBPt1",
        "outputId": "d359ec76-f97d-4a01-cb85-33db6643e7f1"
      },
      "execution_count": null,
      "outputs": [
        {
          "output_type": "stream",
          "name": "stdout",
          "text": [
            "Ascending order :  {'alfi': 20, 'badu': 30, 'beema': 10}\n",
            "Descending order :  {'beema': 10, 'badu': 30, 'alfi': 20}\n"
          ]
        }
      ]
    },
    {
      "cell_type": "code",
      "source": [
        "\n",
        "d1 = {'beema': 10,'badu': 20, 'Ram': 30}\n",
        "d2 = {'alfi': 20,'ansi': 40, 'asif': 50}\n",
        "print(\"Merged dictionaries :\",d1|d2)\n"
      ],
      "metadata": {
        "colab": {
          "base_uri": "https://localhost:8080/"
        },
        "id": "Kb1cNpmTB0L9",
        "outputId": "dd60e816-b9ef-4b8b-930c-df4543ef2359"
      },
      "execution_count": null,
      "outputs": [
        {
          "output_type": "stream",
          "name": "stdout",
          "text": [
            "Merged dictionaries : {'beema': 10, 'badu': 20, 'Ram': 30, 'alfi': 20, 'ansi': 40, 'asif': 50}\n"
          ]
        }
      ]
    }
  ]
}